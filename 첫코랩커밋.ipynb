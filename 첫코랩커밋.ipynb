{
  "nbformat": 4,
  "nbformat_minor": 0,
  "metadata": {
    "colab": {
      "provenance": [],
      "collapsed_sections": [
        "eDRKlWnA4TvK",
        "RTEmrYO74Zs8",
        "UDW0FuPU4gTF"
      ],
      "authorship_tag": "ABX9TyO+GdSK1+9BUzCJaqT3w3bU",
      "include_colab_link": true
    },
    "kernelspec": {
      "name": "python3",
      "display_name": "Python 3"
    },
    "language_info": {
      "name": "python"
    }
  },
  "cells": [
    {
      "cell_type": "markdown",
      "metadata": {
        "id": "view-in-github",
        "colab_type": "text"
      },
      "source": [
        "<a href=\"https://colab.research.google.com/github/devnproyj22/Python_Practice/blob/main/%EC%B2%AB%EC%BD%94%EB%9E%A9%EC%BB%A4%EB%B0%8B.ipynb\" target=\"_parent\"><img src=\"https://colab.research.google.com/assets/colab-badge.svg\" alt=\"Open In Colab\"/></a>"
      ]
    },
    {
      "cell_type": "markdown",
      "source": [
        "#### 내장함수\n",
        "\n",
        "* print\n",
        "* map"
      ],
      "metadata": {
        "id": "eDRKlWnA4TvK"
      }
    },
    {
      "cell_type": "markdown",
      "source": [
        "`print(objects, end='')`\n",
        "\n",
        "* 끝 문자 설정"
      ],
      "metadata": {
        "id": "etOW1v2qwLLh"
      }
    },
    {
      "cell_type": "code",
      "source": [
        "a, b = map(int, input().strip().split(' '))\n",
        "\n",
        "column = b\n",
        "while column:\n",
        "  row = a\n",
        "  while row:\n",
        "    print('*', end='')\n",
        "    row -= 1\n",
        "  print()\n",
        "  column -= 1"
      ],
      "metadata": {
        "colab": {
          "base_uri": "https://localhost:8080/"
        },
        "id": "a54fdldZwaNQ",
        "outputId": "404c9ead-3343-4391-ec35-b4e3157ab24a"
      },
      "execution_count": 2,
      "outputs": [
        {
          "output_type": "stream",
          "name": "stdout",
          "text": [
            "3 5\n",
            "***\n",
            "***\n",
            "***\n",
            "***\n",
            "***\n"
          ]
        }
      ]
    },
    {
      "cell_type": "code",
      "source": [
        "print('Hello World', end='!!!!\\n')"
      ],
      "metadata": {
        "colab": {
          "base_uri": "https://localhost:8080/"
        },
        "id": "7MoipM4VxV01",
        "outputId": "8d3a8461-296b-4d44-8598-56cd9a37268c"
      },
      "execution_count": 7,
      "outputs": [
        {
          "output_type": "stream",
          "name": "stdout",
          "text": [
            "Hello World!!!!\n"
          ]
        }
      ]
    },
    {
      "cell_type": "markdown",
      "source": [
        "`map(function, iterable)`\n",
        "\n",
        "* `return` : iterable의 모든 항목에 function을 적용한 결과를 가르키는 iterator을 반환\n",
        "   * 예. `<map at 0x7816bf112bf0>`\n",
        "   * **무조건 list로 타입 변환**하며 결과 저장\n",
        "* `function`: 내장함수, `lambda`함수, 등"
      ],
      "metadata": {
        "id": "7-AsRksO0vJ8"
      }
    },
    {
      "cell_type": "code",
      "source": [
        "map(lambda a: a*5, [1, 2, 3, 4]) # 말고"
      ],
      "metadata": {
        "colab": {
          "base_uri": "https://localhost:8080/"
        },
        "id": "6bTVnjMK1pGu",
        "outputId": "8d8aaa7e-bcb5-42b8-a209-361ce6a14b69"
      },
      "execution_count": 29,
      "outputs": [
        {
          "output_type": "execute_result",
          "data": {
            "text/plain": [
              "<map at 0x7816bf1117b0>"
            ]
          },
          "metadata": {},
          "execution_count": 29
        }
      ]
    },
    {
      "cell_type": "code",
      "source": [
        "list(map(lambda a: a*5, [1, 2, 3, 4]))"
      ],
      "metadata": {
        "colab": {
          "base_uri": "https://localhost:8080/"
        },
        "id": "KBg0Sf_k2eSt",
        "outputId": "505b84eb-0725-40e9-f8da-7d48da259284"
      },
      "execution_count": 34,
      "outputs": [
        {
          "output_type": "execute_result",
          "data": {
            "text/plain": [
              "[5, 10, 15, 20]"
            ]
          },
          "metadata": {},
          "execution_count": 34
        }
      ]
    },
    {
      "cell_type": "markdown",
      "source": [
        "#### 리스트 메서드(정렬편)\n",
        "\n",
        "* list() - 하나의 문자열을 한문자씩 쪼개기(str.split과 다르게 공백가능)\n",
        "* list.reverse() - 정렬X\n",
        "* list.sort()"
      ],
      "metadata": {
        "id": "RTEmrYO74Zs8"
      }
    },
    {
      "cell_type": "markdown",
      "source": [
        "`list(iterable)`\n",
        "\n",
        "* 기능 : 리스트 클래스의 생성자(`__init__`) 실행하여 이터러블을 리스트화함\n",
        "  * 자료형 관점 : **자료형 변환**\n"
      ],
      "metadata": {
        "id": "0JWfus-556LY"
      }
    },
    {
      "cell_type": "markdown",
      "source": [
        "`list.reverse()`\n",
        "\n",
        "* `return` : `None`\n",
        "* 기능 : 기존의 리스트의 요소들을 거꾸로 나열\n",
        "  * 따로 복사본 없음."
      ],
      "metadata": {
        "id": "cA_JI1uF44QJ"
      }
    },
    {
      "cell_type": "code",
      "source": [
        "n = 12345\n",
        "numbers = list(str(n))\n",
        "print(numbers)\n",
        "print(numbers.reverse())\n",
        "# numbers = list(map(int, numbers))"
      ],
      "metadata": {
        "colab": {
          "base_uri": "https://localhost:8080/"
        },
        "id": "TP3Kwu6z4MKg",
        "outputId": "c6e85927-55e7-4452-f31b-33268c5e5cde"
      },
      "execution_count": 39,
      "outputs": [
        {
          "output_type": "stream",
          "name": "stdout",
          "text": [
            "['1', '2', '3', '4', '5']\n",
            "None\n"
          ]
        }
      ]
    },
    {
      "cell_type": "markdown",
      "source": [
        "`list.sort(key=None, reverse=False)`\n",
        "\n",
        "* `return`:\n",
        "* 기능 : 기존의 리스트의 요소들을 정렬, 옵션으로 거꾸로 정렬도 가능.\n",
        "  * 따로 복사본 없음."
      ],
      "metadata": {
        "id": "7Cqcvw--5bv_"
      }
    },
    {
      "cell_type": "code",
      "source": [
        "# print(list(123)) # TypeError: 'int' object is not iterable\n",
        "print(list('123'))\n",
        "print(list({1: 'one', 2: 'two'}))\n",
        "print(list({'one': 1, 'two': 2}.items)) # TypeError: 'builtin_function_or_method' object is not iterable"
      ],
      "metadata": {
        "colab": {
          "base_uri": "https://localhost:8080/",
          "height": 217
        },
        "collapsed": true,
        "id": "RRv4cotH7QBZ",
        "outputId": "bd378ea1-d0c9-49c1-a7f5-ad9a6c91823a"
      },
      "execution_count": 46,
      "outputs": [
        {
          "output_type": "stream",
          "name": "stdout",
          "text": [
            "['1', '2', '3']\n",
            "[1, 2]\n"
          ]
        },
        {
          "output_type": "error",
          "ename": "TypeError",
          "evalue": "'builtin_function_or_method' object is not iterable",
          "traceback": [
            "\u001b[0;31m---------------------------------------------------------------------------\u001b[0m",
            "\u001b[0;31mTypeError\u001b[0m                                 Traceback (most recent call last)",
            "\u001b[0;32m<ipython-input-46-8689081bef23>\u001b[0m in \u001b[0;36m<cell line: 4>\u001b[0;34m()\u001b[0m\n\u001b[1;32m      2\u001b[0m \u001b[0mprint\u001b[0m\u001b[0;34m(\u001b[0m\u001b[0mlist\u001b[0m\u001b[0;34m(\u001b[0m\u001b[0;34m'123'\u001b[0m\u001b[0;34m)\u001b[0m\u001b[0;34m)\u001b[0m\u001b[0;34m\u001b[0m\u001b[0;34m\u001b[0m\u001b[0m\n\u001b[1;32m      3\u001b[0m \u001b[0mprint\u001b[0m\u001b[0;34m(\u001b[0m\u001b[0mlist\u001b[0m\u001b[0;34m(\u001b[0m\u001b[0;34m{\u001b[0m\u001b[0;36m1\u001b[0m\u001b[0;34m:\u001b[0m \u001b[0;34m'one'\u001b[0m\u001b[0;34m,\u001b[0m \u001b[0;36m2\u001b[0m\u001b[0;34m:\u001b[0m \u001b[0;34m'two'\u001b[0m\u001b[0;34m}\u001b[0m\u001b[0;34m)\u001b[0m\u001b[0;34m)\u001b[0m\u001b[0;34m\u001b[0m\u001b[0;34m\u001b[0m\u001b[0m\n\u001b[0;32m----> 4\u001b[0;31m \u001b[0mprint\u001b[0m\u001b[0;34m(\u001b[0m\u001b[0mlist\u001b[0m\u001b[0;34m(\u001b[0m\u001b[0;34m{\u001b[0m\u001b[0;34m'one'\u001b[0m\u001b[0;34m:\u001b[0m \u001b[0;36m1\u001b[0m\u001b[0;34m,\u001b[0m \u001b[0;34m'two'\u001b[0m\u001b[0;34m:\u001b[0m \u001b[0;36m2\u001b[0m\u001b[0;34m}\u001b[0m\u001b[0;34m.\u001b[0m\u001b[0mitems\u001b[0m\u001b[0;34m)\u001b[0m\u001b[0;34m)\u001b[0m\u001b[0;34m\u001b[0m\u001b[0;34m\u001b[0m\u001b[0m\n\u001b[0m",
            "\u001b[0;31mTypeError\u001b[0m: 'builtin_function_or_method' object is not iterable"
          ]
        }
      ]
    },
    {
      "cell_type": "markdown",
      "source": [
        "#### 문자열 메서드\n",
        "\n",
        "* str.strip()\n",
        "* str.split()"
      ],
      "metadata": {
        "id": "UDW0FuPU4gTF"
      }
    },
    {
      "cell_type": "markdown",
      "source": [
        "`str.strip([chars])`\n",
        "\n",
        "* `return` : 선후 문자가 제거된 문자열의 복사본\n",
        "* `chars` : 생략/None이면 공백제거, 모든 값 조합이 제거됨."
      ],
      "metadata": {
        "id": "ZN_sxazFxvMo"
      }
    },
    {
      "cell_type": "code",
      "source": [
        "'www.exapmle.com'.strip('cmowz.')"
      ],
      "metadata": {
        "colab": {
          "base_uri": "https://localhost:8080/",
          "height": 35
        },
        "id": "qdCRrc0XwxxQ",
        "outputId": "fd411672-af7b-446b-ba33-b76589f14dc1"
      },
      "execution_count": 10,
      "outputs": [
        {
          "output_type": "execute_result",
          "data": {
            "text/plain": [
              "'exapmle'"
            ],
            "application/vnd.google.colaboratory.intrinsic+json": {
              "type": "string"
            }
          },
          "metadata": {},
          "execution_count": 10
        }
      ]
    },
    {
      "cell_type": "code",
      "source": [
        "'3 5'.strip() # 앞뒤만 제거하고 중간의 공백은 제거 안함."
      ],
      "metadata": {
        "id": "75gZ2ci9zQhd"
      },
      "execution_count": null,
      "outputs": []
    },
    {
      "cell_type": "markdown",
      "source": [
        "`str.split(sep=None, maxsplit=-1)`\n",
        "\n",
        "* `return`: 구분자로 구분한 문자열에 있는 단어들의 리스트\n",
        "* `sep` 구분자 문자열: **반드시 지정(공백 '' NO)**, 조합이 아님.\n",
        "* `maxsplit`: 최대 분할 횟수"
      ],
      "metadata": {
        "id": "ZKPSXEqoyLG1"
      }
    },
    {
      "cell_type": "code",
      "source": [
        "'3 5'.strip().split('') # ValueError: empty separator"
      ],
      "metadata": {
        "id": "I9RuAjoAxLWW",
        "colab": {
          "base_uri": "https://localhost:8080/",
          "height": 145
        },
        "collapsed": true,
        "outputId": "cbc36ac7-5de8-4a30-9d08-5e083583cef3"
      },
      "execution_count": 11,
      "outputs": [
        {
          "output_type": "error",
          "ename": "ValueError",
          "evalue": "empty separator",
          "traceback": [
            "\u001b[0;31m---------------------------------------------------------------------------\u001b[0m",
            "\u001b[0;31mValueError\u001b[0m                                Traceback (most recent call last)",
            "\u001b[0;32m<ipython-input-11-d7808e3d0e30>\u001b[0m in \u001b[0;36m<cell line: 1>\u001b[0;34m()\u001b[0m\n\u001b[0;32m----> 1\u001b[0;31m \u001b[0;34m'3 5'\u001b[0m\u001b[0;34m.\u001b[0m\u001b[0mstrip\u001b[0m\u001b[0;34m(\u001b[0m\u001b[0;34m)\u001b[0m\u001b[0;34m.\u001b[0m\u001b[0msplit\u001b[0m\u001b[0;34m(\u001b[0m\u001b[0;34m''\u001b[0m\u001b[0;34m)\u001b[0m\u001b[0;34m\u001b[0m\u001b[0;34m\u001b[0m\u001b[0m\n\u001b[0m",
            "\u001b[0;31mValueError\u001b[0m: empty separator"
          ]
        }
      ]
    },
    {
      "cell_type": "code",
      "source": [
        "'3 5'.strip().split(',')"
      ],
      "metadata": {
        "colab": {
          "base_uri": "https://localhost:8080/"
        },
        "id": "wLpqxBSRziTT",
        "outputId": "d6ed7d92-3266-482f-cc70-29af90b310a5"
      },
      "execution_count": 12,
      "outputs": [
        {
          "output_type": "execute_result",
          "data": {
            "text/plain": [
              "['3 5']"
            ]
          },
          "metadata": {},
          "execution_count": 12
        }
      ]
    },
    {
      "cell_type": "code",
      "source": [
        "'3 5'.strip().split(' ')"
      ],
      "metadata": {
        "colab": {
          "base_uri": "https://localhost:8080/"
        },
        "id": "HjMaDtSjzxU1",
        "outputId": "ae33f293-4324-4b65-a59e-6582cc81efc2"
      },
      "execution_count": 13,
      "outputs": [
        {
          "output_type": "execute_result",
          "data": {
            "text/plain": [
              "['3', '5']"
            ]
          },
          "metadata": {},
          "execution_count": 13
        }
      ]
    },
    {
      "cell_type": "code",
      "source": [
        "'3 5 4 6  7'.split(' ', maxsplit=-1) # 기본값, 공백도 문자다."
      ],
      "metadata": {
        "colab": {
          "base_uri": "https://localhost:8080/"
        },
        "id": "eOYgw6z0z081",
        "outputId": "3f13eaa9-bfb4-4988-be91-6fe6a9716479"
      },
      "execution_count": 20,
      "outputs": [
        {
          "output_type": "execute_result",
          "data": {
            "text/plain": [
              "['3', '5', '4', '6', '', '7']"
            ]
          },
          "metadata": {},
          "execution_count": 20
        }
      ]
    },
    {
      "cell_type": "code",
      "source": [
        "'3, 5, 4,6  7'.split(',', maxsplit=-1) # 기본값, 공백도 문자다."
      ],
      "metadata": {
        "colab": {
          "base_uri": "https://localhost:8080/"
        },
        "id": "vCLv9i0J09Wi",
        "outputId": "7cb8673c-5b73-4326-9f47-fbef119f443d"
      },
      "execution_count": 23,
      "outputs": [
        {
          "output_type": "execute_result",
          "data": {
            "text/plain": [
              "['3', ' 5', ' 4', '6  7']"
            ]
          },
          "metadata": {},
          "execution_count": 23
        }
      ]
    },
    {
      "cell_type": "code",
      "source": [
        "'3, 5, 4,6  7'.split(' ,', maxsplit=-1) # 기본값, 공백도 문자다."
      ],
      "metadata": {
        "colab": {
          "base_uri": "https://localhost:8080/"
        },
        "id": "ktKXAaDU1Gfm",
        "outputId": "29eb3b24-aee3-40e6-a4dc-4162f0bd9e70"
      },
      "execution_count": 24,
      "outputs": [
        {
          "output_type": "execute_result",
          "data": {
            "text/plain": [
              "['3, 5, 4,6  7']"
            ]
          },
          "metadata": {},
          "execution_count": 24
        }
      ]
    },
    {
      "cell_type": "code",
      "source": [],
      "metadata": {
        "id": "unNPdDC11IG6"
      },
      "execution_count": null,
      "outputs": []
    },
    {
      "cell_type": "code",
      "source": [
        "'3 5 4 6  7'.split(' ', maxsplit=0)"
      ],
      "metadata": {
        "colab": {
          "base_uri": "https://localhost:8080/"
        },
        "id": "7ZFjdSsJ0DDV",
        "outputId": "c7aed6f0-04a6-47e5-e657-10d351c2b1ae"
      },
      "execution_count": 18,
      "outputs": [
        {
          "output_type": "execute_result",
          "data": {
            "text/plain": [
              "['3 5 4 6  7']"
            ]
          },
          "metadata": {},
          "execution_count": 18
        }
      ]
    },
    {
      "cell_type": "code",
      "source": [
        "'3 5 4 6  7'.split(' ', maxsplit=2)"
      ],
      "metadata": {
        "colab": {
          "base_uri": "https://localhost:8080/"
        },
        "id": "SWdmxvuZ0sey",
        "outputId": "ea7192d8-1e17-4b7d-8329-1f183c350d86"
      },
      "execution_count": 33,
      "outputs": [
        {
          "output_type": "execute_result",
          "data": {
            "text/plain": [
              "['3', '5', '4 6  7']"
            ]
          },
          "metadata": {},
          "execution_count": 33
        }
      ]
    },
    {
      "cell_type": "code",
      "source": [
        "board = [[0,0,0,0,0],[0,0,1,0,3],[0,2,5,0,1],[4,2,4,4,2],[3,5,1,3,1]]\n",
        "moves = [1,5,3,5,1,2,1,4]\n",
        "basket = []\n",
        "for pick in moves:\n",
        "\n",
        "    # 빈 리스트이면 다음 move\n",
        "    i = -1\n",
        "    while(True):\n",
        "        if i == -len(board[0]) - 1:\n",
        "            break\n",
        "        if board[pick-1][i] != 0:\n",
        "            break\n",
        "        i -= 1\n",
        "    if i == -len(board[0]) - 1:\n",
        "        continue\n",
        "\n",
        "    # 크레인 작동\n",
        "    basket.append(board[pick-1][i])\n",
        "    board[pick-1][i] = 0\n",
        "\n",
        "answer = (len(basket) - len(set(basket)))*2\n",
        "print(answer)"
      ],
      "metadata": {
        "colab": {
          "base_uri": "https://localhost:8080/"
        },
        "id": "uM4_16Z11tEe",
        "outputId": "a27eaf64-d3e2-480a-b608-9efc58186799"
      },
      "execution_count": 32,
      "outputs": [
        {
          "output_type": "stream",
          "name": "stdout",
          "text": [
            "4\n"
          ]
        }
      ]
    },
    {
      "cell_type": "code",
      "source": [
        "n = 12345\n",
        "numbers = list(str(n))\n",
        "numbers.reverse()\n",
        "numbers = list(map(int, numbers))"
      ],
      "metadata": {
        "id": "tJkbEsqp3yJt"
      },
      "execution_count": null,
      "outputs": []
    }
  ]
}